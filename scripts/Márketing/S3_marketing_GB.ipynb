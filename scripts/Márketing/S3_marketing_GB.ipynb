{
 "cells": [
  {
   "cell_type": "markdown",
   "metadata": {},
   "source": [
    "# SPRINT 3.  MARKETING\n"
   ]
  },
  {
   "cell_type": "markdown",
   "metadata": {},
   "source": [
    "## 1. IMPORTACIÓN BBDD I CREACIÓN DEL DF"
   ]
  },
  {
   "cell_type": "code",
   "execution_count": 8,
   "metadata": {},
   "outputs": [
    {
     "name": "stdout",
     "output_type": "stream",
     "text": [
      "conexió correcta\n",
      "Taula 'BANK_marketing' carregada correctament.\n",
      "Taula 'BANK_marketing131024' carregada correctament.\n",
      "Taula 'BANK_marketing211024' carregada correctament.\n",
      "Taula 'BANK_marketing_backup_211024' carregada correctament.\n"
     ]
    }
   ],
   "source": [
    "from sqlalchemy import create_engine, inspect\n",
    "import pandas as pd\n",
    "import numpy as np\n",
    "import matplotlib.pyplot as plt\n",
    "import seaborn as sns\n",
    "from datetime import date, time, datetime\n",
    "\n",
    "#Dades de connexió\n",
    "\n",
    "usuario='EquipoB'\n",
    "\n",
    "contraseña=\"E1q2u3i4p5oB\"\n",
    "host='212.227.90.6'\n",
    "puerto=3306\n",
    "nombre_base_datos='EquipB'\n",
    "\n",
    "#Crear la URL de la connexió\n",
    "url_conexion=f\"mysql+pymysql://{usuario}:{contraseña}@{host}:{puerto}/{nombre_base_datos}\"\n",
    "\n",
    "try:\n",
    "    #Crear el engine de SQLAlchemy\n",
    "    engine=create_engine(url_conexion)\n",
    "    cnx=engine.connect()\n",
    "\n",
    "    print(\"conexió correcta\")\n",
    "    #cnx.close()\n",
    "except Exception as e:\n",
    "    print(f\"Error al conectar con SQLAlchemy: {e}\")\n",
    "    \n",
    "#Recordar que inspect del codi anterior quan creo la connexió amb sqlalchemy\n",
    "#from sqlalchemy import create_engine, inspect\n",
    "inspector=inspect(engine)\n",
    "nombre_tablas=inspector.get_table_names()\n",
    "\n",
    "# Diccionario para almacenar los DataFrames\n",
    "df= {}\n",
    "\n",
    "for taula in nombre_tablas:\n",
    "    query=f\"select * from {taula}\"\n",
    "    \n",
    "    try:\n",
    "        df[taula] = pd.read_sql(query, cnx)\n",
    "        print(f\"Taula '{taula}' carregada correctament.\")\n",
    "    except Exception as e:\n",
    "        print(f\"Error al carregar la taula '{taula}':{e}\")\n",
    "cnx.close()"
   ]
  },
  {
   "cell_type": "code",
   "execution_count": 9,
   "metadata": {},
   "outputs": [
    {
     "name": "stdout",
     "output_type": "stream",
     "text": [
      "<class 'pandas.core.frame.DataFrame'>\n",
      "RangeIndex: 26163 entries, 0 to 26162\n",
      "Data columns (total 12 columns):\n",
      " #   Column    Non-Null Count  Dtype \n",
      "---  ------    --------------  ----- \n",
      " 0   id        26163 non-null  int64 \n",
      " 1   age       26163 non-null  int64 \n",
      " 2   balance   26163 non-null  int64 \n",
      " 3   contact   26163 non-null  object\n",
      " 4   day       26163 non-null  int64 \n",
      " 5   month     26163 non-null  object\n",
      " 6   duration  26163 non-null  int64 \n",
      " 7   campaign  26163 non-null  int64 \n",
      " 8   pdays     26163 non-null  int64 \n",
      " 9   previous  26163 non-null  int64 \n",
      " 10  poutcome  26163 non-null  object\n",
      " 11  deposit   26163 non-null  int64 \n",
      "dtypes: int64(9), object(3)\n",
      "memory usage: 2.4+ MB\n"
     ]
    }
   ],
   "source": [
    "df_marketing=df['BANK_marketing211024']\n",
    "\n",
    "df_marketing=df_marketing.drop(['housing','default','loan','job','marital','education'],axis=1)\n",
    "df_marketing.info()\n",
    "\n"
   ]
  },
  {
   "cell_type": "markdown",
   "metadata": {},
   "source": [
    "## 1.1 Parametros globales de visualización matplotlib seaborn"
   ]
  },
  {
   "cell_type": "code",
   "execution_count": 10,
   "metadata": {},
   "outputs": [],
   "source": [
    "plt.style.use(\"seaborn-v0_8-deep\")\n",
    "\n",
    "# Configuración de parámetros globales para Matplotlib\n",
    "plt.rcParams.update({\n",
    "    'font.size': 12,\n",
    "    'axes.titlesize': 14,\n",
    "    'axes.labelsize': 12,\n",
    "    'legend.fontsize': 10,\n",
    "    'xtick.labelsize': 10,\n",
    "    'ytick.labelsize': 10,\n",
    "    'xtick.major.size': 5,\n",
    "    'ytick.major.size': 5,\n",
    "    'xtick.direction': 'out',\n",
    "    'ytick.direction': 'out',\n",
    "    'figure.figsize': (12, 6),\n",
    "    'figure.dpi': 100,\n",
    "    'legend.loc': 'upper right'\n",
    "})\n",
    "\n",
    "# Configuración de estilo y contexto de Seaborn\n",
    "#sns.set(style=\"whitegrid\")  # Estilo del gráfico\n",
    "sns.set_context(\"notebook\", font_scale=1.2, rc={\n",
    "    \"axes.labelsize\": 12,\n",
    "    \"axes.titlesize\": 13,\n",
    "    \"xtick.labelsize\": 10,\n",
    "    \"ytick.labelsize\": 10,\n",
    "    \"legend.fontsize\": 10,\n",
    "    \"legend.title_fontsize\": 12 \n",
    "})\n"
   ]
  },
  {
   "cell_type": "markdown",
   "metadata": {},
   "source": [
    "## 2. EDA"
   ]
  },
  {
   "cell_type": "code",
   "execution_count": 11,
   "metadata": {},
   "outputs": [
    {
     "data": {
      "text/html": [
       "<div>\n",
       "<style scoped>\n",
       "    .dataframe tbody tr th:only-of-type {\n",
       "        vertical-align: middle;\n",
       "    }\n",
       "\n",
       "    .dataframe tbody tr th {\n",
       "        vertical-align: top;\n",
       "    }\n",
       "\n",
       "    .dataframe thead th {\n",
       "        text-align: right;\n",
       "    }\n",
       "</style>\n",
       "<table border=\"1\" class=\"dataframe\">\n",
       "  <thead>\n",
       "    <tr style=\"text-align: right;\">\n",
       "      <th></th>\n",
       "      <th>id</th>\n",
       "      <th>age</th>\n",
       "      <th>balance</th>\n",
       "      <th>contact</th>\n",
       "      <th>day</th>\n",
       "      <th>month</th>\n",
       "      <th>duration</th>\n",
       "      <th>campaign</th>\n",
       "      <th>pdays</th>\n",
       "      <th>previous</th>\n",
       "      <th>poutcome</th>\n",
       "      <th>deposit</th>\n",
       "    </tr>\n",
       "  </thead>\n",
       "  <tbody>\n",
       "    <tr>\n",
       "      <th>0</th>\n",
       "      <td>1</td>\n",
       "      <td>59</td>\n",
       "      <td>2343</td>\n",
       "      <td>unknown</td>\n",
       "      <td>5</td>\n",
       "      <td>may</td>\n",
       "      <td>1042</td>\n",
       "      <td>1</td>\n",
       "      <td>-1</td>\n",
       "      <td>0</td>\n",
       "      <td>unknown</td>\n",
       "      <td>1</td>\n",
       "    </tr>\n",
       "    <tr>\n",
       "      <th>1</th>\n",
       "      <td>2</td>\n",
       "      <td>59</td>\n",
       "      <td>2343</td>\n",
       "      <td>unknown</td>\n",
       "      <td>5</td>\n",
       "      <td>may</td>\n",
       "      <td>1042</td>\n",
       "      <td>1</td>\n",
       "      <td>-1</td>\n",
       "      <td>0</td>\n",
       "      <td>unknown</td>\n",
       "      <td>1</td>\n",
       "    </tr>\n",
       "    <tr>\n",
       "      <th>2</th>\n",
       "      <td>3</td>\n",
       "      <td>56</td>\n",
       "      <td>45</td>\n",
       "      <td>unknown</td>\n",
       "      <td>5</td>\n",
       "      <td>may</td>\n",
       "      <td>1467</td>\n",
       "      <td>1</td>\n",
       "      <td>-1</td>\n",
       "      <td>0</td>\n",
       "      <td>unknown</td>\n",
       "      <td>1</td>\n",
       "    </tr>\n",
       "    <tr>\n",
       "      <th>3</th>\n",
       "      <td>4</td>\n",
       "      <td>41</td>\n",
       "      <td>1270</td>\n",
       "      <td>unknown</td>\n",
       "      <td>5</td>\n",
       "      <td>may</td>\n",
       "      <td>1389</td>\n",
       "      <td>1</td>\n",
       "      <td>-1</td>\n",
       "      <td>0</td>\n",
       "      <td>unknown</td>\n",
       "      <td>1</td>\n",
       "    </tr>\n",
       "    <tr>\n",
       "      <th>4</th>\n",
       "      <td>5</td>\n",
       "      <td>55</td>\n",
       "      <td>2476</td>\n",
       "      <td>unknown</td>\n",
       "      <td>5</td>\n",
       "      <td>may</td>\n",
       "      <td>579</td>\n",
       "      <td>1</td>\n",
       "      <td>-1</td>\n",
       "      <td>0</td>\n",
       "      <td>unknown</td>\n",
       "      <td>1</td>\n",
       "    </tr>\n",
       "  </tbody>\n",
       "</table>\n",
       "</div>"
      ],
      "text/plain": [
       "   id  age  balance  contact  day month  duration  campaign  pdays  previous  \\\n",
       "0   1   59     2343  unknown    5   may      1042         1     -1         0   \n",
       "1   2   59     2343  unknown    5   may      1042         1     -1         0   \n",
       "2   3   56       45  unknown    5   may      1467         1     -1         0   \n",
       "3   4   41     1270  unknown    5   may      1389         1     -1         0   \n",
       "4   5   55     2476  unknown    5   may       579         1     -1         0   \n",
       "\n",
       "  poutcome  deposit  \n",
       "0  unknown        1  \n",
       "1  unknown        1  \n",
       "2  unknown        1  \n",
       "3  unknown        1  \n",
       "4  unknown        1  "
      ]
     },
     "execution_count": 11,
     "metadata": {},
     "output_type": "execute_result"
    }
   ],
   "source": [
    "df_marketing.head()"
   ]
  },
  {
   "cell_type": "code",
   "execution_count": 14,
   "metadata": {},
   "outputs": [],
   "source": [
    "filtro=df_marketing['pdays']!=-1\n"
   ]
  },
  {
   "cell_type": "code",
   "execution_count": 15,
   "metadata": {},
   "outputs": [
    {
     "data": {
      "text/plain": [
       "Text(0.5, 0, 'Dias entre llamadas')"
      ]
     },
     "execution_count": 15,
     "metadata": {},
     "output_type": "execute_result"
    },
    {
     "data": {
      "image/png": "[encoded data removed]",
      "text/plain": [
       "<Figure size 1200x600 with 1 Axes>"
      ]
     },
     "metadata": {},
     "output_type": "display_data"
    }
   ],
   "source": [
    "#Ahora a generar una matriz de 2x2 subplots, se accede a cada uno por axs[i,j]\n",
    "#fig, axs = plt.subplots(2, 2, figsize=(12, 8))\n",
    "\n",
    "#Utilizar displot no permite utilizar subplot. Bueno recordarlo.\n",
    "#sns.displot(data=df_marketing,x=\"duration\", kde=False, ax=axs[0], stat='density')\n",
    "# Graficamos el histograma con seaborn displot\n",
    "axs=sns.histplot(data=df_marketing[filtro], x=\"pdays\", kde=False,  stat='density')\n",
    "axs.set_title('Distribución días entre llamadas ')\n",
    "axs.set_xlabel('Dias entre llamadas')\n",
    "#axs.set_xlim(0, 450)\n",
    "#axs.set_ylim(0, 0.02)\n"
   ]
  },
  {
   "cell_type": "code",
   "execution_count": 16,
   "metadata": {},
   "outputs": [
    {
     "data": {
      "text/plain": [
       "Text(0.5, 0, 'Dias entre llamadas')"
      ]
     },
     "execution_count": 16,
     "metadata": {},
     "output_type": "execute_result"
    },
    {
     "data": {
      "image/png": "[encoded data removed]",
      "text/plain": [
       "<Figure size 1200x600 with 1 Axes>"
      ]
     },
     "metadata": {},
     "output_type": "display_data"
    }
   ],
   "source": [
    "axs=sns.histplot(data=df_marketing, x=\"previous\", kde=False,  stat='density')\n",
    "axs.set_title('Distribución días entre llamadas ')\n",
    "axs.set_xlabel('Dias entre llamadas')\n",
    "#axs.set_xlim(0, 450)\n",
    "#axs.set_ylim(0, 0.02)\n"
   ]
  },
  {
   "cell_type": "markdown",
   "metadata": {},
   "source": [
    "## 3. ANÁLISIS "
   ]
  },
  {
   "cell_type": "markdown",
   "metadata": {},
   "source": [
    "### 3.1 Funciones"
   ]
  },
  {
   "cell_type": "code",
   "execution_count": 17,
   "metadata": {},
   "outputs": [],
   "source": [
    "def cuartiles(df):\n",
    "    #calcular cuartiles\n",
    "    Q1 = df.quantile(0.25)\n",
    "    Q2 = df.quantile(0.50)\n",
    "    Q3 = df.quantile(0.75)\n",
    "\n",
    "    #calcular IQR (rango intercuartílico)\n",
    "    IQR = Q3 - Q1\n",
    "\n",
    "    #calcular límite outliers\n",
    "    min_Q = Q1 - 1.5*IQR\n",
    "    max_Q = Q3 + 1.5*IQR\n",
    "\n",
    "    min_Q_ext=Q1 - 3*IQR\n",
    "    max_Q_ext=Q3 + 3*IQR\n",
    "    \n",
    "    return Q1, Q2, Q3, min_Q, max_Q, min_Q_ext,max_Q_ext\n",
    "\n",
    "def clasification_variable_x_cuartiles(valor):\n",
    "    \n",
    "    if  valor < min_Q_ext:\n",
    "        return (\"extremo-muy-bajo inf a \"+str(round(min_Q_ext,0))) \n",
    "    elif valor < min_Q:\n",
    "        return (\"muy-bajo \"+str(round(min_Q_ext,0))+\" a \"+str(round(min_Q,0)))\n",
    "    elif valor < Q1:\n",
    "        return (\"bajo \"+str(round(min_Q,0))+\" a \"+str(round(Q1,0)))\n",
    "    elif valor < Q2:\n",
    "        return (\"medio-bajo \"+str(round(Q1,0))+\" a \"+str(round(Q2,0)))\n",
    "    elif valor < Q3:\n",
    "        return (\"medio-alto \"+str(round(Q2,0))+\" a \"+str(round(Q3,0)))\n",
    "    elif valor < max_Q:\n",
    "        return (\"alto \"+str(round(Q3,0))+\" a \"+str(round(max_Q,0)))\n",
    "    elif valor < max_Q_ext:\n",
    "        return (\"muy-alto \"+str(round(max_Q,0))+\" a \"+str(round(max_Q_ext,0)))\n",
    "    else:\n",
    "        return (\"extremo-muy-alto \"+str(round(max_Q_ext,0))+\" a inf\")\n",
    "\n"
   ]
  },
  {
   "cell_type": "code",
   "execution_count": 18,
   "metadata": {},
   "outputs": [],
   "source": [
    "def num_semana_mes (day):\n",
    "\n",
    "    semana_mes=-1\n",
    "\n",
    "    if (day>=1 and day <=7):\n",
    "        semana_mes=1\n",
    "    elif (day>7 and day <=15):\n",
    "        semana_mes=2\n",
    "    elif (day>15 and day <=23):\n",
    "        semana_mes=3\n",
    "    elif (day>23 and day <=31):\n",
    "        semana_mes=4\n",
    "    else:\n",
    "        semana_mes=0\n",
    "    return semana_mes\n",
    "\n",
    "df_marketing[\"semana_mes\"]=df_marketing[\"day\"].apply(num_semana_mes)\n",
    "\n",
    "\n"
   ]
  },
  {
   "cell_type": "code",
   "execution_count": 19,
   "metadata": {},
   "outputs": [],
   "source": [
    "def cuartil_33_y_66(df):\n",
    "    #calcular cuartiles\n",
    "    Q33 = df.quantile(0.33)\n",
    "    Q66 = df.quantile(0.66)\n",
    "       \n",
    "    return Q33, Q66\n",
    "\n",
    "def clasificacion_variable_x_cuartil_33_y_66(valor):\n",
    "    \n",
    "    if  valor  <Q33:\n",
    "        return (\"bajo infer a \"+str(round(Q33,0))) \n",
    "    elif valor <Q66:\n",
    "        return (\"medio \"+str(round(Q33,0))+\" a \"+str(round(Q66,0)))\n",
    "    else:\n",
    "        return (\"alto super a \"+str(round(Q66,0)))"
   ]
  },
  {
   "cell_type": "markdown",
   "metadata": {},
   "source": [
    "Creación de nuevas variables en el dataset"
   ]
  },
  {
   "cell_type": "code",
   "execution_count": 20,
   "metadata": {},
   "outputs": [],
   "source": [
    "df_marketing[\"duration_min\"]=round(df_marketing[\"duration\"]/60,2)\n",
    "\n",
    "Q1, Q2, Q3, min_Q, max_Q, min_Q_ext,max_Q_ext = cuartiles(df_marketing['duration_min'])\n",
    "\n",
    "Q1=round(Q1,1)\n",
    "Q2=round(Q2,1)\n",
    "Q3=round(Q3,1)\n",
    "min_Q=round(min_Q,1)\n",
    "min_Q_ext=round(min_Q_ext,1)\n",
    "max_Q=round(max_Q,1)\n",
    "max_Q_ext=round(max_Q_ext,1)\n",
    "df_marketing[\"rango_duration\"] = df_marketing[\"duration_min\"].apply(clasification_variable_x_cuartiles)\n"
   ]
  },
  {
   "cell_type": "code",
   "execution_count": 21,
   "metadata": {},
   "outputs": [
    {
     "data": {
      "text/plain": [
       "rango_duration\n",
       "medio-alto 4.0 a 8.0           6729\n",
       "medio-bajo 2.0 a 4.0           6464\n",
       "bajo -7.0 a 2.0                6442\n",
       "alto 8.0 a 17.0                5025\n",
       "muy-alto 17.0 a 26.0           1258\n",
       "extremo-muy-alto 26.0 a inf     245\n",
       "Name: count, dtype: int64"
      ]
     },
     "execution_count": 21,
     "metadata": {},
     "output_type": "execute_result"
    }
   ],
   "source": [
    "df_marketing[\"rango_duration\"].value_counts()"
   ]
  },
  {
   "cell_type": "code",
   "execution_count": 22,
   "metadata": {},
   "outputs": [],
   "source": [
    "Q33, Q66 = cuartil_33_y_66(df_marketing['age'])\n",
    "df_marketing[\"categoria_age\"] = df_marketing[\"age\"].apply(clasificacion_variable_x_cuartil_33_y_66)\n",
    "Q33, Q66 = cuartil_33_y_66(df_marketing['balance'])\n",
    "df_marketing[\"categoria_balance\"] = df_marketing[\"balance\"].apply(clasificacion_variable_x_cuartil_33_y_66)\n",
    "\n"
   ]
  },
  {
   "cell_type": "code",
   "execution_count": 23,
   "metadata": {},
   "outputs": [
    {
     "data": {
      "text/plain": [
       "categoria_age\n",
       "alto super a 45.0    9109\n",
       "medio 34.0 a 45.0    8980\n",
       "bajo infer a 34.0    8074\n",
       "Name: count, dtype: int64"
      ]
     },
     "execution_count": 23,
     "metadata": {},
     "output_type": "execute_result"
    }
   ],
   "source": [
    "df_marketing[\"categoria_age\"].value_counts()"
   ]
  },
  {
   "cell_type": "code",
   "execution_count": 24,
   "metadata": {},
   "outputs": [
    {
     "data": {
      "text/plain": [
       "(0.0, 0.0)"
      ]
     },
     "execution_count": 24,
     "metadata": {},
     "output_type": "execute_result"
    }
   ],
   "source": [
    "Q33, Q66 = cuartil_33_y_66(df_marketing['previous'])\n",
    "Q33, Q66 "
   ]
  },
  {
   "cell_type": "code",
   "execution_count": 25,
   "metadata": {},
   "outputs": [
    {
     "data": {
      "text/plain": [
       "categoria_balance\n",
       "alto super a 1114.0     8896\n",
       "medio 231.0 a 1114.0    8639\n",
       "bajo infer a 231.0      8628\n",
       "Name: count, dtype: int64"
      ]
     },
     "execution_count": 25,
     "metadata": {},
     "output_type": "execute_result"
    }
   ],
   "source": [
    "df_marketing[\"categoria_balance\"].value_counts()"
   ]
  },
  {
   "cell_type": "code",
   "execution_count": 26,
   "metadata": {},
   "outputs": [
    {
     "data": {
      "text/plain": [
       "campaign\n",
       "1     11224\n",
       "2      7169\n",
       "3      3098\n",
       "4      1812\n",
       "5       861\n",
       "6       592\n",
       "7       307\n",
       "8       291\n",
       "9       179\n",
       "10      114\n",
       "11       98\n",
       "13       80\n",
       "12       71\n",
       "14       38\n",
       "17       36\n",
       "15       29\n",
       "18       22\n",
       "16       22\n",
       "21       16\n",
       "20       13\n",
       "19       13\n",
       "30       12\n",
       "22       10\n",
       "26       10\n",
       "25        8\n",
       "24        7\n",
       "23        6\n",
       "32        5\n",
       "29        5\n",
       "63        4\n",
       "33        3\n",
       "28        2\n",
       "41        2\n",
       "43        2\n",
       "27        1\n",
       "31        1\n",
       "Name: count, dtype: int64"
      ]
     },
     "execution_count": 26,
     "metadata": {},
     "output_type": "execute_result"
    }
   ],
   "source": [
    "df_marketing[\"campaign\"].value_counts()"
   ]
  },
  {
   "cell_type": "code",
   "execution_count": 27,
   "metadata": {},
   "outputs": [
    {
     "data": {
      "text/plain": [
       "semana_mes\n",
       "3    7667\n",
       "2    7353\n",
       "1    5795\n",
       "4    5348\n",
       "Name: count, dtype: int64"
      ]
     },
     "execution_count": 27,
     "metadata": {},
     "output_type": "execute_result"
    }
   ],
   "source": [
    "df_marketing[\"semana_mes\"].value_counts()"
   ]
  },
  {
   "cell_type": "code",
   "execution_count": 28,
   "metadata": {},
   "outputs": [
    {
     "data": {
      "text/plain": [
       "previous\n",
       "0     19525\n",
       "1      2070\n",
       "2      1607\n",
       "3      1027\n",
       "4       579\n",
       "5       380\n",
       "6       288\n",
       "7       176\n",
       "8       151\n",
       "9        78\n",
       "10       66\n",
       "11       56\n",
       "12       30\n",
       "17       25\n",
       "13       21\n",
       "15       12\n",
       "19       11\n",
       "14       10\n",
       "20        7\n",
       "23        6\n",
       "27        4\n",
       "26        4\n",
       "22        4\n",
       "16        4\n",
       "21        3\n",
       "30        3\n",
       "40        3\n",
       "28        2\n",
       "18        2\n",
       "58        2\n",
       "41        2\n",
       "55        2\n",
       "29        2\n",
       "37        1\n",
       "Name: count, dtype: int64"
      ]
     },
     "execution_count": 28,
     "metadata": {},
     "output_type": "execute_result"
    }
   ],
   "source": [
    "df_marketing[\"previous\"].value_counts()"
   ]
  },
  {
   "cell_type": "code",
   "execution_count": 29,
   "metadata": {},
   "outputs": [
    {
     "data": {
      "text/html": [
       "<div>\n",
       "<style scoped>\n",
       "    .dataframe tbody tr th:only-of-type {\n",
       "        vertical-align: middle;\n",
       "    }\n",
       "\n",
       "    .dataframe tbody tr th {\n",
       "        vertical-align: top;\n",
       "    }\n",
       "\n",
       "    .dataframe thead th {\n",
       "        text-align: right;\n",
       "    }\n",
       "</style>\n",
       "<table border=\"1\" class=\"dataframe\">\n",
       "  <thead>\n",
       "    <tr style=\"text-align: right;\">\n",
       "      <th></th>\n",
       "      <th>semana_mes</th>\n",
       "      <th>tasa_conversion</th>\n",
       "      <th>num_registros</th>\n",
       "    </tr>\n",
       "  </thead>\n",
       "  <tbody>\n",
       "    <tr>\n",
       "      <th>0</th>\n",
       "      <td>1</td>\n",
       "      <td>0.503365</td>\n",
       "      <td>5795</td>\n",
       "    </tr>\n",
       "    <tr>\n",
       "      <th>1</th>\n",
       "      <td>2</td>\n",
       "      <td>0.511220</td>\n",
       "      <td>7353</td>\n",
       "    </tr>\n",
       "    <tr>\n",
       "      <th>2</th>\n",
       "      <td>3</td>\n",
       "      <td>0.430807</td>\n",
       "      <td>7667</td>\n",
       "    </tr>\n",
       "    <tr>\n",
       "      <th>3</th>\n",
       "      <td>4</td>\n",
       "      <td>0.450823</td>\n",
       "      <td>5348</td>\n",
       "    </tr>\n",
       "  </tbody>\n",
       "</table>\n",
       "</div>"
      ],
      "text/plain": [
       "   semana_mes  tasa_conversion  num_registros\n",
       "0           1         0.503365           5795\n",
       "1           2         0.511220           7353\n",
       "2           3         0.430807           7667\n",
       "3           4         0.450823           5348"
      ]
     },
     "execution_count": 29,
     "metadata": {},
     "output_type": "execute_result"
    }
   ],
   "source": [
    "#filtro_year = df_marketing['year'].isin([\"2008\", \"2009\", \"2010\"])\n",
    "df_groupby_semana_mes_tasa_conv = df_marketing.groupby([\"semana_mes\"])[\"deposit\"].agg(['mean','count'])\n",
    "df_groupby_semana_mes_tasa_conv=df_groupby_semana_mes_tasa_conv.reset_index()\n",
    "df_groupby_semana_mes_tasa_conv=df_groupby_semana_mes_tasa_conv.rename(columns={\"mean\":\"tasa_conversion\",\"count\":\"num_registros\"})\n",
    "df_groupby_semana_mes_tasa_conv"
   ]
  },
  {
   "cell_type": "code",
   "execution_count": 30,
   "metadata": {},
   "outputs": [
    {
     "data": {
      "image/png": "[encoded data removed]",
      "text/plain": [
       "<Figure size 1200x600 with 1 Axes>"
      ]
     },
     "metadata": {},
     "output_type": "display_data"
    }
   ],
   "source": [
    "fig, ax = plt.subplots()\n",
    "bars=ax.bar(df_groupby_semana_mes_tasa_conv ['semana_mes'],df_groupby_semana_mes_tasa_conv ['tasa_conversion'])\n",
    "# Añadir títulos y etiquetas\n",
    "#plt.xticks(rotation=45)\n",
    "plt.title(\"Tasa conversion por categorías de rangos duracion\")\n",
    "plt.xlabel(\"Semana mes\")\n",
    "plt.ylabel(\"Tasa de conversión\")\n",
    "ax.set_xticks([1,2,3,4])\n",
    "\n",
    "# Añadir los valores encima de las barras\n",
    "for bar in bars:\n",
    "    yval = bar.get_height()\n",
    "    ax.text(bar.get_x() + bar.get_width()/2, yval, f\"{yval:.2f}\", ha='center', va='bottom')\n",
    "\n",
    "# Mostrar gráfico\n",
    "plt.show()"
   ]
  },
  {
   "cell_type": "markdown",
   "metadata": {},
   "source": [
    "Graficar el número de semana per rangos de duración sin outliers, extremo-muy-alto y muy-alto en duraciones"
   ]
  },
  {
   "cell_type": "code",
   "execution_count": 31,
   "metadata": {},
   "outputs": [],
   "source": [
    "is_rango_duration_extremo_alto=df_marketing[\"rango_duration\"]==\"extremo-muy-alto 26.0 a inf\"\n",
    "is_rango_duration_muy_alto=df_marketing[\"rango_duration\"]==\"muy-alto 17.0 a 26.0\"\n",
    "\n",
    "fitro_duracion_no_extremo_alto_ni_muy_alto= ~((is_rango_duration_extremo_alto | is_rango_duration_muy_alto))\n",
    "\n",
    "\n",
    "df_groupby_rango_duration_semana_mes=df_marketing[fitro_duracion_no_extremo_alto_ni_muy_alto].groupby([\"rango_duration\",\"semana_mes\"])[\"deposit\"].agg(['mean','count'])\n",
    "df_groupby_rango_duration_semana_mes=df_groupby_rango_duration_semana_mes.reset_index()\n",
    "df_groupby_rango_duration_semana_mes=df_groupby_rango_duration_semana_mes.rename(columns={'mean':'tasa_conversión','count':'num_total_registros'})\n"
   ]
  },
  {
   "cell_type": "code",
   "execution_count": 32,
   "metadata": {},
   "outputs": [
    {
     "data": {
      "text/plain": [
       "rango_duration\n",
       "medio-alto 4.0 a 8.0           6729\n",
       "medio-bajo 2.0 a 4.0           6464\n",
       "bajo -7.0 a 2.0                6442\n",
       "alto 8.0 a 17.0                5025\n",
       "muy-alto 17.0 a 26.0           1258\n",
       "extremo-muy-alto 26.0 a inf     245\n",
       "Name: count, dtype: int64"
      ]
     },
     "execution_count": 32,
     "metadata": {},
     "output_type": "execute_result"
    }
   ],
   "source": [
    "df_marketing[\"rango_duration\"].value_counts()"
   ]
  },
  {
   "cell_type": "code",
   "execution_count": 33,
   "metadata": {},
   "outputs": [
    {
     "data": {
      "text/html": [
       "<div>\n",
       "<style scoped>\n",
       "    .dataframe tbody tr th:only-of-type {\n",
       "        vertical-align: middle;\n",
       "    }\n",
       "\n",
       "    .dataframe tbody tr th {\n",
       "        vertical-align: top;\n",
       "    }\n",
       "\n",
       "    .dataframe thead th {\n",
       "        text-align: right;\n",
       "    }\n",
       "</style>\n",
       "<table border=\"1\" class=\"dataframe\">\n",
       "  <thead>\n",
       "    <tr style=\"text-align: right;\">\n",
       "      <th></th>\n",
       "      <th>rango_duration</th>\n",
       "      <th>semana_mes</th>\n",
       "      <th>tasa_conversión</th>\n",
       "      <th>num_total_registros</th>\n",
       "    </tr>\n",
       "  </thead>\n",
       "  <tbody>\n",
       "    <tr>\n",
       "      <th>0</th>\n",
       "      <td>alto 8.0 a 17.0</td>\n",
       "      <td>1</td>\n",
       "      <td>0.800373</td>\n",
       "      <td>1072</td>\n",
       "    </tr>\n",
       "    <tr>\n",
       "      <th>1</th>\n",
       "      <td>alto 8.0 a 17.0</td>\n",
       "      <td>2</td>\n",
       "      <td>0.827632</td>\n",
       "      <td>1491</td>\n",
       "    </tr>\n",
       "    <tr>\n",
       "      <th>2</th>\n",
       "      <td>alto 8.0 a 17.0</td>\n",
       "      <td>3</td>\n",
       "      <td>0.783117</td>\n",
       "      <td>1540</td>\n",
       "    </tr>\n",
       "    <tr>\n",
       "      <th>3</th>\n",
       "      <td>alto 8.0 a 17.0</td>\n",
       "      <td>4</td>\n",
       "      <td>0.801518</td>\n",
       "      <td>922</td>\n",
       "    </tr>\n",
       "    <tr>\n",
       "      <th>4</th>\n",
       "      <td>bajo -7.0 a 2.0</td>\n",
       "      <td>1</td>\n",
       "      <td>0.126378</td>\n",
       "      <td>1179</td>\n",
       "    </tr>\n",
       "    <tr>\n",
       "      <th>5</th>\n",
       "      <td>bajo -7.0 a 2.0</td>\n",
       "      <td>2</td>\n",
       "      <td>0.152275</td>\n",
       "      <td>1714</td>\n",
       "    </tr>\n",
       "    <tr>\n",
       "      <th>6</th>\n",
       "      <td>bajo -7.0 a 2.0</td>\n",
       "      <td>3</td>\n",
       "      <td>0.083210</td>\n",
       "      <td>2031</td>\n",
       "    </tr>\n",
       "    <tr>\n",
       "      <th>7</th>\n",
       "      <td>bajo -7.0 a 2.0</td>\n",
       "      <td>4</td>\n",
       "      <td>0.102108</td>\n",
       "      <td>1518</td>\n",
       "    </tr>\n",
       "    <tr>\n",
       "      <th>8</th>\n",
       "      <td>medio-alto 4.0 a 8.0</td>\n",
       "      <td>1</td>\n",
       "      <td>0.579040</td>\n",
       "      <td>1708</td>\n",
       "    </tr>\n",
       "    <tr>\n",
       "      <th>9</th>\n",
       "      <td>medio-alto 4.0 a 8.0</td>\n",
       "      <td>2</td>\n",
       "      <td>0.580797</td>\n",
       "      <td>1906</td>\n",
       "    </tr>\n",
       "    <tr>\n",
       "      <th>10</th>\n",
       "      <td>medio-alto 4.0 a 8.0</td>\n",
       "      <td>3</td>\n",
       "      <td>0.498881</td>\n",
       "      <td>1788</td>\n",
       "    </tr>\n",
       "    <tr>\n",
       "      <th>11</th>\n",
       "      <td>medio-alto 4.0 a 8.0</td>\n",
       "      <td>4</td>\n",
       "      <td>0.581763</td>\n",
       "      <td>1327</td>\n",
       "    </tr>\n",
       "    <tr>\n",
       "      <th>12</th>\n",
       "      <td>medio-bajo 2.0 a 4.0</td>\n",
       "      <td>1</td>\n",
       "      <td>0.414209</td>\n",
       "      <td>1492</td>\n",
       "    </tr>\n",
       "    <tr>\n",
       "      <th>13</th>\n",
       "      <td>medio-bajo 2.0 a 4.0</td>\n",
       "      <td>2</td>\n",
       "      <td>0.431148</td>\n",
       "      <td>1830</td>\n",
       "    </tr>\n",
       "    <tr>\n",
       "      <th>14</th>\n",
       "      <td>medio-bajo 2.0 a 4.0</td>\n",
       "      <td>3</td>\n",
       "      <td>0.320912</td>\n",
       "      <td>1798</td>\n",
       "    </tr>\n",
       "    <tr>\n",
       "      <th>15</th>\n",
       "      <td>medio-bajo 2.0 a 4.0</td>\n",
       "      <td>4</td>\n",
       "      <td>0.386161</td>\n",
       "      <td>1344</td>\n",
       "    </tr>\n",
       "  </tbody>\n",
       "</table>\n",
       "</div>"
      ],
      "text/plain": [
       "          rango_duration  semana_mes  tasa_conversión  num_total_registros\n",
       "0        alto 8.0 a 17.0           1         0.800373                 1072\n",
       "1        alto 8.0 a 17.0           2         0.827632                 1491\n",
       "2        alto 8.0 a 17.0           3         0.783117                 1540\n",
       "3        alto 8.0 a 17.0           4         0.801518                  922\n",
       "4        bajo -7.0 a 2.0           1         0.126378                 1179\n",
       "5        bajo -7.0 a 2.0           2         0.152275                 1714\n",
       "6        bajo -7.0 a 2.0           3         0.083210                 2031\n",
       "7        bajo -7.0 a 2.0           4         0.102108                 1518\n",
       "8   medio-alto 4.0 a 8.0           1         0.579040                 1708\n",
       "9   medio-alto 4.0 a 8.0           2         0.580797                 1906\n",
       "10  medio-alto 4.0 a 8.0           3         0.498881                 1788\n",
       "11  medio-alto 4.0 a 8.0           4         0.581763                 1327\n",
       "12  medio-bajo 2.0 a 4.0           1         0.414209                 1492\n",
       "13  medio-bajo 2.0 a 4.0           2         0.431148                 1830\n",
       "14  medio-bajo 2.0 a 4.0           3         0.320912                 1798\n",
       "15  medio-bajo 2.0 a 4.0           4         0.386161                 1344"
      ]
     },
     "execution_count": 33,
     "metadata": {},
     "output_type": "execute_result"
    }
   ],
   "source": [
    "df_groupby_rango_duration_semana_mes\n"
   ]
  },
  {
   "cell_type": "code",
   "execution_count": 34,
   "metadata": {},
   "outputs": [
    {
     "data": {
      "image/png": "[encoded data removed]",
      "text/plain": [
       "<Figure size 1200x600 with 1 Axes>"
      ]
     },
     "metadata": {},
     "output_type": "display_data"
    }
   ],
   "source": [
    "order=[1,2,3,4]\n",
    "hue_order = [ 'bajo -7.0 a 2.0', 'medio-bajo 2.0 a 4.0','medio-alto 4.0 a 8.0','alto 8.0 a 17.0']\n",
    "#hue_order=['bajo infer a 34.0','medio 34.0 a 45.0', 'alto super a 45.0']\n",
    "ax=sns.barplot(x='semana_mes',y='tasa_conversión',data=df_groupby_rango_duration_semana_mes,hue='rango_duration', order=order,hue_order=hue_order)\n",
    "\n",
    "#plt.xticks(rotation=90,fontsize=10)\n",
    "plt.title(\"Tasa conversion por semana del mes\")\n",
    "plt.xlabel(\"Número semana del mes\")\n",
    "plt.ylabel(\"Tasa de conversión\")\n",
    "\n",
    "\n",
    "# Añadir los valores encima de las barras\n",
    "for container in ax.containers:\n",
    "    ax.bar_label(container, fmt='%.2f', label_type='edge',fontsize=8)\n",
    "    \n",
    "# Obtener los handles y labels de la leyenda original\n",
    "handles, labels = ax.get_legend_handles_labels()\n",
    "\n",
    "# Crear nueva leyenda con etiquetas mapeadas\n",
    "#new_labels = [label_map[label] for label in labels]\n",
    "ax.legend(handles=handles, title='rango_duracion', loc='upper left',bbox_to_anchor=(1, 1))\n",
    "\n",
    "# Mostrar gráfico\n",
    "plt.show()"
   ]
  },
  {
   "cell_type": "code",
   "execution_count": 35,
   "metadata": {},
   "outputs": [
    {
     "data": {
      "text/plain": [
       "rango_duration\n",
       "medio-alto 4.0 a 8.0           6729\n",
       "medio-bajo 2.0 a 4.0           6464\n",
       "bajo -7.0 a 2.0                6442\n",
       "alto 8.0 a 17.0                5025\n",
       "muy-alto 17.0 a 26.0           1258\n",
       "extremo-muy-alto 26.0 a inf     245\n",
       "Name: count, dtype: int64"
      ]
     },
     "execution_count": 35,
     "metadata": {},
     "output_type": "execute_result"
    }
   ],
   "source": [
    "df_marketing[\"rango_duration\"].value_counts()"
   ]
  },
  {
   "cell_type": "code",
   "execution_count": 36,
   "metadata": {},
   "outputs": [],
   "source": [
    "is_rango_duration_medio_bajo=df_marketing[\"rango_duration\"]==\"medio-bajo 2.0 a 4.0\"\n",
    "is_rango_duration_medio_alto=df_marketing[\"rango_duration\"]==\"medio-alto 4.0 a 8.0\"\n",
    "is_rango_duration_alto=df_marketing[\"rango_duration\"]==\"alto 8.0 a 17.0 \"\n",
    "\n",
    "fitro_duracion_medio_bajo_medio_alto_alto= (is_rango_duration_medio_bajo & is_rango_duration_medio_alto & is_rango_duration_alto)\n",
    "\n",
    "\n",
    "df_groupby_rango_duration_semana_mes=df_marketing[fitro_duracion_medio_bajo_medio_alto_alto].groupby([\"categoria_balance\",\"semana_mes\"])[\"deposit\"].agg(['mean','count'])\n",
    "df_groupby_rango_duration_semana_mes=df_groupby_rango_duration_semana_mes.reset_index()\n",
    "df_groupby_rango_duration_semana_mes=df_groupby_rango_duration_semana_mes.rename(columns={'mean':'tasa_conversión','count':'num_total_registros'})\n"
   ]
  }
 ],
 "metadata": {
  "kernelspec": {
   "display_name": "base",
   "language": "python",
   "name": "python3"
  },
  "language_info": {
   "codemirror_mode": {
    "name": "ipython",
    "version": 3
   },
   "file_extension": ".py",
   "mimetype": "text/x-python",
   "name": "python",
   "nbconvert_exporter": "python",
   "pygments_lexer": "ipython3",
   "version": "3.12.4"
  }
 },
 "nbformat": 4,
 "nbformat_minor": 2
}
